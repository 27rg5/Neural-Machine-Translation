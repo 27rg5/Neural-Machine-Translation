{
  "nbformat": 4,
  "nbformat_minor": 0,
  "metadata": {
    "colab": {
      "name": "Neural Machine Translation.ipynb",
      "provenance": [],
      "collapsed_sections": []
    },
    "kernelspec": {
      "name": "python3",
      "display_name": "Python 3"
    },
    "language_info": {
      "name": "python"
    },
    "accelerator": "GPU"
  },
  "cells": [
    {
      "cell_type": "code",
      "metadata": {
        "id": "E8MWbwkb3GIk"
      },
      "source": [
        "import numpy as np\n",
        "import matplotlib.pyplot as plt\n",
        "import pandas as pd\n",
        "import tensorflow as tf\n",
        "import string\n",
        "import re\n",
        "import os\n",
        "from keras.preprocessing.text import Tokenizer\n",
        "from keras.preprocessing.sequence import pad_sequences\n",
        "from sklearn.model_selection import train_test_split\n",
        "from google.colab import files\n",
        "import warnings\n",
        "warnings.filterwarnings('ignore')"
      ],
      "execution_count": 1,
      "outputs": []
    },
    {
      "cell_type": "code",
      "metadata": {
        "id": "_qfd96ZJ848F"
      },
      "source": [
        "# slipt data into Hebrew-English pairs\n",
        "file = open('/content/dataset.txt', mode='rt', encoding='utf-8')\n",
        "text = file.read()\n",
        "sentences = text.strip().split('\\n')\n",
        "sentences = [i.split('\\t') for i in sentences]"
      ],
      "execution_count": 2,
      "outputs": []
    },
    {
      "cell_type": "code",
      "metadata": {
        "id": "-2_f60wAN6Q4",
        "colab": {
          "base_uri": "https://localhost:8080/"
        },
        "outputId": "41427a68-84d9-48ef-c230-e458652d1558"
      },
      "source": [
        "sentences[0:4]"
      ],
      "execution_count": 3,
      "outputs": [
        {
          "output_type": "execute_result",
          "data": {
            "text/plain": [
              "[['Go.',\n",
              "  'לך!',\n",
              "  'CC-BY 2.0 (France) Attribution: tatoeba.org #2877272 (CM) & #9435252 (Alkrasnov)'],\n",
              " ['Hi.',\n",
              "  'היי.',\n",
              "  'CC-BY 2.0 (France) Attribution: tatoeba.org #538123 (CM) & #694680 (Eldad)'],\n",
              " ['Hi.',\n",
              "  'אהלן.',\n",
              "  'CC-BY 2.0 (France) Attribution: tatoeba.org #538123 (CM) & #2184365 (MrShoval)'],\n",
              " ['Run!',\n",
              "  'רוץ!',\n",
              "  'CC-BY 2.0 (France) Attribution: tatoeba.org #906328 (papabear) & #2805053 (Eldad)']]"
            ]
          },
          "metadata": {
            "tags": []
          },
          "execution_count": 3
        }
      ]
    },
    {
      "cell_type": "code",
      "metadata": {
        "id": "rX7o2xg1N6bE"
      },
      "source": [
        "final_sentences = []\n",
        "for i in range (0, len(sentences)):        # removed the unneccessary data from texts\n",
        "  final_sentences.append(sentences[i][0:2])\n",
        "data = np.array(final_sentences)\n",
        "data = data[0:122000]           # reduced the dataset size since it was huge"
      ],
      "execution_count": 81,
      "outputs": []
    },
    {
      "cell_type": "code",
      "metadata": {
        "colab": {
          "base_uri": "https://localhost:8080/"
        },
        "id": "_lx5t4Yi-Mz5",
        "outputId": "8fc6f4a7-a854-42a5-fe71-d095675fe494"
      },
      "source": [
        "data[0:4]"
      ],
      "execution_count": 52,
      "outputs": [
        {
          "output_type": "execute_result",
          "data": {
            "text/plain": [
              "array([['Go.', 'לך!'],\n",
              "       ['Hi.', 'היי.'],\n",
              "       ['Hi.', 'אהלן.'],\n",
              "       ['Run!', 'רוץ!']], dtype='<U380')"
            ]
          },
          "metadata": {
            "tags": []
          },
          "execution_count": 52
        }
      ]
    },
    {
      "cell_type": "code",
      "metadata": {
        "colab": {
          "base_uri": "https://localhost:8080/"
        },
        "id": "Tpdz369PBw3e",
        "outputId": "6fe36e1a-dee6-4466-935e-b930384b351b"
      },
      "source": [
        "# Remove punctuation from text\n",
        "data[:,0] = [s.translate(str.maketrans('', '', string.punctuation)) for s in data[:,0]]\n",
        "data[:,1] = [s.translate(str.maketrans('', '', string.punctuation)) for s in data[:,1]]\n",
        "\n",
        "# convert text to lowercase\n",
        "for i in range(len(data)):\n",
        "    data[i,0] = data[i,0].lower()\n",
        "    data[i,1] = data[i,1].lower()\n",
        "\n",
        "data[0:4]"
      ],
      "execution_count": 53,
      "outputs": [
        {
          "output_type": "execute_result",
          "data": {
            "text/plain": [
              "array([['go', 'לך'],\n",
              "       ['hi', 'היי'],\n",
              "       ['hi', 'אהלן'],\n",
              "       ['run', 'רוץ']], dtype='<U380')"
            ]
          },
          "metadata": {
            "tags": []
          },
          "execution_count": 53
        }
      ]
    },
    {
      "cell_type": "code",
      "metadata": {
        "colab": {
          "base_uri": "https://localhost:8080/",
          "height": 545
        },
        "id": "C3WE6kmULQ4Y",
        "outputId": "01a30193-c515-4c24-c397-6e8a45da4df2"
      },
      "source": [
        "# study the data\n",
        "eng_len = []\n",
        "heb_len = []\n",
        "\n",
        "for i in data[:,0]:                      # calculates word length of English sentences\n",
        "      eng_len.append(len(i.split()))\n",
        "\n",
        "for i in data[:,1]:                      # calculates word length of Hebrew sentences\n",
        "      heb_len.append(len(i.split()))\n",
        "\n",
        "length_df = pd.DataFrame({'eng':eng_len, 'heb':heb_len})\n",
        "\n",
        "plt.title(\"Word length of Hebrew sentences\")\n",
        "plt.hist(length_df['heb'])        # Histogram of word length of Hebrew sentences\n",
        "plt.show()\n",
        "plt.title(\"Word length of Englsh sentences\")\n",
        "plt.hist(length_df['eng'])        # Histogram of word length of English sentences\n",
        "plt.show()"
      ],
      "execution_count": 54,
      "outputs": [
        {
          "output_type": "display_data",
          "data": {
            "image/png": "[encoded data removed]",
            "text/plain": [
              "<Figure size 432x288 with 1 Axes>"
            ]
          },
          "metadata": {
            "tags": [],
            "needs_background": "light"
          }
        },
        {
          "output_type": "display_data",
          "data": {
            "image/png": "[encoded data removed]",
            "text/plain": [
              "<Figure size 432x288 with 1 Axes>"
            ]
          },
          "metadata": {
            "tags": [],
            "needs_background": "light"
          }
        }
      ]
    },
    {
      "cell_type": "code",
      "metadata": {
        "id": "pixmGp94P91A",
        "colab": {
          "base_uri": "https://localhost:8080/"
        },
        "outputId": "340c4e14-7fc5-493e-a399-07b8c35c15b4"
      },
      "source": [
        "print('Maximum length of German sentences - ', length_df['heb'].max())\n",
        "print('Maximum length of English sentences - ', length_df['eng'].max())"
      ],
      "execution_count": 55,
      "outputs": [
        {
          "output_type": "stream",
          "text": [
            "Maximum length of German sentences -  14\n",
            "Maximum length of English sentences -  14\n"
          ],
          "name": "stdout"
        }
      ]
    },
    {
      "cell_type": "code",
      "metadata": {
        "id": "fEA2uTkL6aLI"
      },
      "source": [
        "# function to build a tokenizer\n",
        "def tokenization(lines):\n",
        "      tokenizer = Tokenizer()\n",
        "      tokenizer.fit_on_texts(lines)\n",
        "      return tokenizer"
      ],
      "execution_count": 56,
      "outputs": []
    },
    {
      "cell_type": "code",
      "metadata": {
        "colab": {
          "base_uri": "https://localhost:8080/"
        },
        "id": "eGMdj1SZ7F7O",
        "outputId": "2cd440b8-a8f4-4a9a-fde7-40ed150185ff"
      },
      "source": [
        "# prepare English tokenizer\n",
        "eng_tokenizer = tokenization(data[:, 0])\n",
        "eng_vocab_size = len(eng_tokenizer.word_index) + 1\n",
        "print('English Vocabulary Size: %d' % eng_vocab_size)\n",
        "\n",
        "# prepare Hebrew tokenizer\n",
        "heb_tokenizer = tokenization(data[:, 1])\n",
        "heb_vocab_size = len(heb_tokenizer.word_index) + 1\n",
        "print('Hebrew Vocabulary Size: %d' % heb_vocab_size)"
      ],
      "execution_count": 57,
      "outputs": [
        {
          "output_type": "stream",
          "text": [
            "English Vocabulary Size: 13304\n",
            "Hebrew Vocabulary Size: 37531\n"
          ],
          "name": "stdout"
        }
      ]
    },
    {
      "cell_type": "code",
      "metadata": {
        "id": "3QjUounO73k2"
      },
      "source": [
        "# encode and pad sequences\n",
        "def encode_sequences(tokenizer, length, lines):\n",
        "         # integer encode sequences\n",
        "         seq = tokenizer.texts_to_sequences(lines)\n",
        "         # pad sequences with 0 values\n",
        "         seq = pad_sequences(seq, maxlen=length, padding='post')\n",
        "         return seq"
      ],
      "execution_count": 58,
      "outputs": []
    },
    {
      "cell_type": "code",
      "metadata": {
        "id": "eGFGQ7ub9GCS"
      },
      "source": [
        "# split data into training and testing set\n",
        "train, test = train_test_split(data, test_size=0.002, random_state = 42)   #Test size is kept as 0.2% of complete data, since the dataset is huge and also testing cannot be done on lot of data due to memory shortage\n",
        "\n",
        "# split training data into training and validation set\n",
        "train, val = train_test_split(train, test_size=0.25, random_state = 42)   "
      ],
      "execution_count": 61,
      "outputs": []
    },
    {
      "cell_type": "code",
      "metadata": {
        "id": "XbWKVbT2-52Q"
      },
      "source": [
        "#setting the max length of sentence. Later we'll pad every other shorter sentence with 0 (this includes both English and German sentences)\n",
        "max_eng_length = 54   \n",
        "max_heb_length = 65\n",
        "\n",
        "# prepare training data\n",
        "trainX = encode_sequences(heb_tokenizer, max_heb_length, train[:, 1])\n",
        "trainY = encode_sequences(eng_tokenizer, max_eng_length, train[:, 0])\n",
        "\n",
        "# prepare validation data\n",
        "valX = encode_sequences(heb_tokenizer, max_heb_length, val[:, 1])\n",
        "valY = encode_sequences(eng_tokenizer, max_eng_length, val[:, 0])\n",
        "\n",
        "# prepare testing data\n",
        "testX = encode_sequences(heb_tokenizer, max_heb_length, test[:, 1])\n",
        "testY = encode_sequences(eng_tokenizer, max_eng_length, test[:, 0])"
      ],
      "execution_count": 63,
      "outputs": []
    },
    {
      "cell_type": "code",
      "metadata": {
        "id": "Do85JxDCACbc"
      },
      "source": [
        "# build NMT model\n",
        "def define_model(in_vocab,out_vocab, in_timesteps,out_timesteps,units):\n",
        "      model = tf.keras.models.Sequential()\n",
        "      model.add(tf.keras.layers.Embedding(in_vocab, units, input_length=in_timesteps, mask_zero=True))\n",
        "      model.add(tf.keras.layers.LSTM(units))\n",
        "      model.add(tf.keras.layers.RepeatVector(out_timesteps))\n",
        "      model.add(tf.keras.layers.LSTM(units, return_sequences=True))\n",
        "      model.add(tf.keras.layers.Dense(out_vocab, activation='softmax'))\n",
        "      return model"
      ],
      "execution_count": 64,
      "outputs": []
    },
    {
      "cell_type": "code",
      "metadata": {
        "id": "sgAU7C2mHRZt",
        "colab": {
          "base_uri": "https://localhost:8080/"
        },
        "outputId": "1e83086c-f348-4d5a-c83a-649b01a14f42"
      },
      "source": [
        "# model compilation and summary\n",
        "model = define_model(heb_vocab_size, eng_vocab_size, max_heb_length, max_eng_length, 128)\n",
        "model.summary()"
      ],
      "execution_count": 65,
      "outputs": [
        {
          "output_type": "stream",
          "text": [
            "Model: \"sequential_3\"\n",
            "_________________________________________________________________\n",
            "Layer (type)                 Output Shape              Param #   \n",
            "=================================================================\n",
            "embedding_3 (Embedding)      (None, 65, 128)           4803968   \n",
            "_________________________________________________________________\n",
            "lstm_6 (LSTM)                (None, 128)               131584    \n",
            "_________________________________________________________________\n",
            "repeat_vector_3 (RepeatVecto (None, 54, 128)           0         \n",
            "_________________________________________________________________\n",
            "lstm_7 (LSTM)                (None, 54, 128)           131584    \n",
            "_________________________________________________________________\n",
            "dense_3 (Dense)              (None, 54, 13304)         1716216   \n",
            "=================================================================\n",
            "Total params: 6,783,352\n",
            "Trainable params: 6,783,352\n",
            "Non-trainable params: 0\n",
            "_________________________________________________________________\n"
          ],
          "name": "stdout"
        }
      ]
    },
    {
      "cell_type": "code",
      "metadata": {
        "id": "iIairB7BbWTo"
      },
      "source": [
        "# Set some other configurations for the model\n",
        "adam = tf.keras.optimizers.Adam()\n",
        "model.compile(optimizer=adam, loss='sparse_categorical_crossentropy')"
      ],
      "execution_count": 66,
      "outputs": []
    },
    {
      "cell_type": "code",
      "metadata": {
        "colab": {
          "base_uri": "https://localhost:8080/"
        },
        "id": "OudnlAolb5dz",
        "outputId": "d3897e0e-9ef6-4977-e6c9-1ffe9baf549e"
      },
      "source": [
        "early_stopping = tf.keras.callbacks.EarlyStopping(monitor='val_loss', mode = 'min', patience = 1)  # Stop training the model if 'val_loss' has stopped decreasing\n",
        "\n",
        "# train model\n",
        "history = model.fit(trainX, trainY.reshape(trainY.shape[0], trainY.shape[1], 1),\n",
        "                    epochs=30, batch_size = 64, validation_data = (valX, valY), callbacks=[early_stopping],\n",
        "                    verbose=1)\n",
        "\n",
        "model.save('/content/NMT_model.h5')"
      ],
      "execution_count": 67,
      "outputs": [
        {
          "output_type": "stream",
          "text": [
            "Epoch 1/30\n",
            "1427/1427 [==============================] - 128s 87ms/step - loss: 0.8643 - val_loss: 0.6549\n",
            "Epoch 2/30\n",
            "1427/1427 [==============================] - 122s 85ms/step - loss: 0.6319 - val_loss: 0.6164\n",
            "Epoch 3/30\n",
            "1427/1427 [==============================] - 121s 85ms/step - loss: 0.5881 - val_loss: 0.5813\n",
            "Epoch 4/30\n",
            "1427/1427 [==============================] - 121s 85ms/step - loss: 0.5422 - val_loss: 0.5407\n",
            "Epoch 5/30\n",
            "1427/1427 [==============================] - 121s 85ms/step - loss: 0.4922 - val_loss: 0.5048\n",
            "Epoch 6/30\n",
            "1427/1427 [==============================] - 120s 84ms/step - loss: 0.4461 - val_loss: 0.4736\n",
            "Epoch 7/30\n",
            "1427/1427 [==============================] - 121s 85ms/step - loss: 0.4061 - val_loss: 0.4506\n",
            "Epoch 8/30\n",
            "1427/1427 [==============================] - 121s 85ms/step - loss: 0.3706 - val_loss: 0.4329\n",
            "Epoch 9/30\n",
            "1427/1427 [==============================] - 120s 84ms/step - loss: 0.3393 - val_loss: 0.4203\n",
            "Epoch 10/30\n",
            "1427/1427 [==============================] - 120s 84ms/step - loss: 0.3119 - val_loss: 0.4098\n",
            "Epoch 11/30\n",
            "1427/1427 [==============================] - 120s 84ms/step - loss: 0.2875 - val_loss: 0.4020\n",
            "Epoch 12/30\n",
            "1427/1427 [==============================] - 121s 85ms/step - loss: 0.2660 - val_loss: 0.3973\n",
            "Epoch 13/30\n",
            "1427/1427 [==============================] - 121s 85ms/step - loss: 0.2467 - val_loss: 0.3946\n",
            "Epoch 14/30\n",
            "1427/1427 [==============================] - 120s 84ms/step - loss: 0.2296 - val_loss: 0.3956\n"
          ],
          "name": "stdout"
        }
      ]
    },
    {
      "cell_type": "code",
      "metadata": {
        "id": "UcSYySpXc5Bh",
        "colab": {
          "base_uri": "https://localhost:8080/",
          "height": 204
        },
        "outputId": "1048a70c-c7ac-4f11-e436-08e18fa35b16"
      },
      "source": [
        "history_df = pd.DataFrame(history.history)\n",
        "history_df.head()                  "
      ],
      "execution_count": 68,
      "outputs": [
        {
          "output_type": "execute_result",
          "data": {
            "text/html": [
              "<div>\n",
              "<style scoped>\n",
              "    .dataframe tbody tr th:only-of-type {\n",
              "        vertical-align: middle;\n",
              "    }\n",
              "\n",
              "    .dataframe tbody tr th {\n",
              "        vertical-align: top;\n",
              "    }\n",
              "\n",
              "    .dataframe thead th {\n",
              "        text-align: right;\n",
              "    }\n",
              "</style>\n",
              "<table border=\"1\" class=\"dataframe\">\n",
              "  <thead>\n",
              "    <tr style=\"text-align: right;\">\n",
              "      <th></th>\n",
              "      <th>loss</th>\n",
              "      <th>val_loss</th>\n",
              "    </tr>\n",
              "  </thead>\n",
              "  <tbody>\n",
              "    <tr>\n",
              "      <th>0</th>\n",
              "      <td>0.864329</td>\n",
              "      <td>0.654867</td>\n",
              "    </tr>\n",
              "    <tr>\n",
              "      <th>1</th>\n",
              "      <td>0.631921</td>\n",
              "      <td>0.616420</td>\n",
              "    </tr>\n",
              "    <tr>\n",
              "      <th>2</th>\n",
              "      <td>0.588079</td>\n",
              "      <td>0.581322</td>\n",
              "    </tr>\n",
              "    <tr>\n",
              "      <th>3</th>\n",
              "      <td>0.542235</td>\n",
              "      <td>0.540727</td>\n",
              "    </tr>\n",
              "    <tr>\n",
              "      <th>4</th>\n",
              "      <td>0.492153</td>\n",
              "      <td>0.504763</td>\n",
              "    </tr>\n",
              "  </tbody>\n",
              "</table>\n",
              "</div>"
            ],
            "text/plain": [
              "       loss  val_loss\n",
              "0  0.864329  0.654867\n",
              "1  0.631921  0.616420\n",
              "2  0.588079  0.581322\n",
              "3  0.542235  0.540727\n",
              "4  0.492153  0.504763"
            ]
          },
          "metadata": {
            "tags": []
          },
          "execution_count": 68
        }
      ]
    },
    {
      "cell_type": "code",
      "metadata": {
        "id": "CDLzKAOp7BqU",
        "colab": {
          "base_uri": "https://localhost:8080/",
          "height": 281
        },
        "outputId": "0e13d6c8-92c8-4646-f223-c8db48077c84"
      },
      "source": [
        "# plotting training and validation loss\n",
        "plt.title('Loss')\n",
        "plt.plot(history_df['loss'], label = 'Training loss')\n",
        "plt.plot(history_df['val_loss'], label = 'Validation loss')\n",
        "plt.ylim(0,1)\n",
        "plt.legend()\n",
        "plt.show()"
      ],
      "execution_count": 69,
      "outputs": [
        {
          "output_type": "display_data",
          "data": {
            "image/png": "[encoded data removed]",
            "text/plain": [
              "<Figure size 432x288 with 1 Axes>"
            ]
          },
          "metadata": {
            "tags": [],
            "needs_background": "light"
          }
        }
      ]
    },
    {
      "cell_type": "code",
      "metadata": {
        "id": "6juhYgzRQWCJ"
      },
      "source": [
        "preds = model.predict_classes(testX.reshape((testX.shape[0],testX.shape[1])))   #make predictions"
      ],
      "execution_count": 70,
      "outputs": []
    },
    {
      "cell_type": "code",
      "metadata": {
        "id": "i1kwEtjnQpYL"
      },
      "source": [
        "# function to convert predicted integers to corresponding words\n",
        "def get_word(n, tokenizer):\n",
        "      for word, index in tokenizer.word_index.items():\n",
        "          if index == n:\n",
        "              return word\n",
        "      return None"
      ],
      "execution_count": 71,
      "outputs": []
    },
    {
      "cell_type": "code",
      "metadata": {
        "id": "hhEUF-kxQtbo"
      },
      "source": [
        "# convert predicted integers to corresponding words\n",
        "preds_text = []\n",
        "for i in preds:\n",
        "       temp = []\n",
        "       for j in range(len(i)):\n",
        "            t = get_word(i[j], eng_tokenizer)\n",
        "            if j > 0:\n",
        "                if (t == get_word(i[j-1], eng_tokenizer)) or (t == None):\n",
        "                     temp.append('')\n",
        "                else:\n",
        "                     temp.append(t)\n",
        "            else:\n",
        "                   if(t == None):\n",
        "                          temp.append('')\n",
        "                   else:\n",
        "                          temp.append(t) \n",
        "\n",
        "       preds_text.append(' '.join(temp))"
      ],
      "execution_count": 72,
      "outputs": []
    },
    {
      "cell_type": "code",
      "metadata": {
        "id": "1SXm3a54Qv5Z"
      },
      "source": [
        "pred_df = pd.DataFrame({'actual' : test[:,0], 'predicted' : preds_text})"
      ],
      "execution_count": 73,
      "outputs": []
    },
    {
      "cell_type": "code",
      "metadata": {
        "id": "h7HN4xnQRK5T"
      },
      "source": [
        "pred_df.to_csv('/content/predictions.csv')"
      ],
      "execution_count": 74,
      "outputs": []
    },
    {
      "cell_type": "code",
      "metadata": {
        "colab": {
          "base_uri": "https://localhost:8080/",
          "height": 17
        },
        "id": "CxmS4JKxRPhe",
        "outputId": "bb892339-4b9f-4484-9b74-5b155448b479"
      },
      "source": [
        "# Download prediction file in local computer \n",
        "files.download('/content/predictions.csv')"
      ],
      "execution_count": 75,
      "outputs": [
        {
          "output_type": "display_data",
          "data": {
            "application/javascript": [
              "\n",
              "    async function download(id, filename, size) {\n",
              "      if (!google.colab.kernel.accessAllowed) {\n",
              "        return;\n",
              "      }\n",
              "      const div = document.createElement('div');\n",
              "      const label = document.createElement('label');\n",
              "      label.textContent = `Downloading \"${filename}\": `;\n",
              "      div.appendChild(label);\n",
              "      const progress = document.createElement('progress');\n",
              "      progress.max = size;\n",
              "      div.appendChild(progress);\n",
              "      document.body.appendChild(div);\n",
              "\n",
              "      const buffers = [];\n",
              "      let downloaded = 0;\n",
              "\n",
              "      const channel = await google.colab.kernel.comms.open(id);\n",
              "      // Send a message to notify the kernel that we're ready.\n",
              "      channel.send({})\n",
              "\n",
              "      for await (const message of channel.messages) {\n",
              "        // Send a message to notify the kernel that we're ready.\n",
              "        channel.send({})\n",
              "        if (message.buffers) {\n",
              "          for (const buffer of message.buffers) {\n",
              "            buffers.push(buffer);\n",
              "            downloaded += buffer.byteLength;\n",
              "            progress.value = downloaded;\n",
              "          }\n",
              "        }\n",
              "      }\n",
              "      const blob = new Blob(buffers, {type: 'application/binary'});\n",
              "      const a = document.createElement('a');\n",
              "      a.href = window.URL.createObjectURL(blob);\n",
              "      a.download = filename;\n",
              "      div.appendChild(a);\n",
              "      a.click();\n",
              "      div.remove();\n",
              "    }\n",
              "  "
            ],
            "text/plain": [
              "<IPython.core.display.Javascript object>"
            ]
          },
          "metadata": {
            "tags": []
          }
        },
        {
          "output_type": "display_data",
          "data": {
            "application/javascript": [
              "download(\"download_123508d1-326e-4a75-ba96-6c786a91e3ce\", \"predictions.csv\", 24189)"
            ],
            "text/plain": [
              "<IPython.core.display.Javascript object>"
            ]
          },
          "metadata": {
            "tags": []
          }
        }
      ]
    },
    {
      "cell_type": "code",
      "metadata": {
        "id": "L5WXtePiT0XM",
        "colab": {
          "base_uri": "https://localhost:8080/",
          "height": 17
        },
        "outputId": "07e3e972-1fc2-45b0-c852-094330ac8d2b"
      },
      "source": [
        "# Download saved model into local computer\n",
        "files.download('/content/NMT_model.h5')"
      ],
      "execution_count": 77,
      "outputs": [
        {
          "output_type": "display_data",
          "data": {
            "application/javascript": [
              "\n",
              "    async function download(id, filename, size) {\n",
              "      if (!google.colab.kernel.accessAllowed) {\n",
              "        return;\n",
              "      }\n",
              "      const div = document.createElement('div');\n",
              "      const label = document.createElement('label');\n",
              "      label.textContent = `Downloading \"${filename}\": `;\n",
              "      div.appendChild(label);\n",
              "      const progress = document.createElement('progress');\n",
              "      progress.max = size;\n",
              "      div.appendChild(progress);\n",
              "      document.body.appendChild(div);\n",
              "\n",
              "      const buffers = [];\n",
              "      let downloaded = 0;\n",
              "\n",
              "      const channel = await google.colab.kernel.comms.open(id);\n",
              "      // Send a message to notify the kernel that we're ready.\n",
              "      channel.send({})\n",
              "\n",
              "      for await (const message of channel.messages) {\n",
              "        // Send a message to notify the kernel that we're ready.\n",
              "        channel.send({})\n",
              "        if (message.buffers) {\n",
              "          for (const buffer of message.buffers) {\n",
              "            buffers.push(buffer);\n",
              "            downloaded += buffer.byteLength;\n",
              "            progress.value = downloaded;\n",
              "          }\n",
              "        }\n",
              "      }\n",
              "      const blob = new Blob(buffers, {type: 'application/binary'});\n",
              "      const a = document.createElement('a');\n",
              "      a.href = window.URL.createObjectURL(blob);\n",
              "      a.download = filename;\n",
              "      div.appendChild(a);\n",
              "      a.click();\n",
              "      div.remove();\n",
              "    }\n",
              "  "
            ],
            "text/plain": [
              "<IPython.core.display.Javascript object>"
            ]
          },
          "metadata": {
            "tags": []
          }
        },
        {
          "output_type": "display_data",
          "data": {
            "application/javascript": [
              "download(\"download_41364404-e9d0-4db0-9d3c-dad805293d2d\", \"NMT_model.h5\", 81452544)"
            ],
            "text/plain": [
              "<IPython.core.display.Javascript object>"
            ]
          },
          "metadata": {
            "tags": []
          }
        }
      ]
    },
    {
      "cell_type": "code",
      "metadata": {
        "id": "guDxaaq48gIw"
      },
      "source": [
        ""
      ],
      "execution_count": null,
      "outputs": []
    }
  ]
}